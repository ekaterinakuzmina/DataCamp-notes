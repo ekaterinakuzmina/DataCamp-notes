{
 "cells": [
  {
   "cell_type": "markdown",
   "metadata": {},
   "source": [
    "# Main points from lectures\n",
    "\n",
    "## 1. Supervised learning \n",
    "\n",
    "1. Machine learning (ML hereafter) implies making computers \"learn to make desisions from data **without being explicitly programmed**\".\n",
    "2. Supervised ML, unsupervised ML, and reinforcment larning are main types of ML.\n",
    "3. **Supervised ML** serves to reveal patterns of labeled data (e.g., predicting whether an eamil is spam).\n",
    "4. **Unsupervised ML** serves to reveal patterns of unlabeled data (e.g., **clustering** articles or customers into different categories without knowing in advance what these categories are).\n",
    "5. **Reinforcment learning** implies that software agents interact with an environment, optimizing their behaviour based on rewards and punishments. \n",
    "6. **Supervised ML** implies the presence of **predictor variables/independent variables/features** and a **target variable/dependent variable/response variable**.\n",
    "7. The **aim of supervised ML** is to build a model which predicts the target variable given the predictor variables.\n",
    "8. If the **target variable is categorical**, the supervised ML task is called **classification**, if it is **continuous**, the task is **regression**.\n",
    "9. The **practical goal of supervised ML** can be to (1) automate time-consuming and/or expensive manual tasks (e.g., doctor's diagnosis); (2) make prediction about the future (e.g., whether an add would be popular).\n",
    "10. Labeled data can be obtained from (1)existing databases (historical data); (2) experiments; (3) crowd-sourcing. \n",
    "11. In Python, supervised ML can be done with **scikit-learn/sklearn** libraries as well as **TensorFlow** and **keras** libraries.\n",
    "\n",
    "\n",
    "\n",
    "\n",
    "\n"
   ]
  },
  {
   "cell_type": "code",
   "execution_count": null,
   "metadata": {},
   "outputs": [],
   "source": []
  }
 ],
 "metadata": {
  "kernelspec": {
   "display_name": "Python 3",
   "language": "python",
   "name": "python3"
  },
  "language_info": {
   "codemirror_mode": {
    "name": "ipython",
    "version": 3
   },
   "file_extension": ".py",
   "mimetype": "text/x-python",
   "name": "python",
   "nbconvert_exporter": "python",
   "pygments_lexer": "ipython3",
   "version": "3.7.1"
  }
 },
 "nbformat": 4,
 "nbformat_minor": 2
}
